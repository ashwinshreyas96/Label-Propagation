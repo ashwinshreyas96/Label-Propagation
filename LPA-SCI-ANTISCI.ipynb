{
 "cells": [
  {
   "cell_type": "code",
   "execution_count": 1,
   "metadata": {
    "scrolled": true
   },
   "outputs": [],
   "source": [
    "import pandas as pd\n",
    "import os\n",
    "from igraph import *\n",
    "import numpy as np\n",
    "from sklearn.model_selection import StratifiedKFold\n",
    "from scipy import stats\n",
    "from sklearn.semi_supervised import LabelPropagation\n",
    "from sklearn import preprocessing\n",
    "from collections import Counter\n",
    "from sklearn.metrics import precision_score\n",
    "from sklearn.metrics import recall_score\n",
    "from sklearn.metrics import auc\n",
    "from sklearn.metrics import roc_curve\n",
    "from sklearn.metrics import confusion_matrix\n",
    "from functools import reduce"
   ]
  },
  {
   "cell_type": "code",
   "execution_count": 2,
   "metadata": {},
   "outputs": [],
   "source": [
    "\n",
    "def create_graph(unweighted_edges, boolean):\n",
    "    g = Graph.TupleList(G, directed=boolean)\n",
    "    g.es[\"weight\"] = 1\n",
    "    g.simplify(combine_edges={\"weight\": \"sum\"})\n",
    "    return(g)"
   ]
  },
  {
   "cell_type": "code",
   "execution_count": 3,
   "metadata": {},
   "outputs": [],
   "source": [
    "def descriptive_stats(g):\n",
    "    #print(\"Indegreeg.indegree()[1])\n",
    "    print(\"Maximum indegree for a node : \",max(g.indegree()))    \n",
    "    print(\"Maximum outdegree for a node : \",max(g.outdegree()))\n",
    "    print(\"Maximum retweeted handle : \",g.vs.select(_indegree = max(g.indegree()))[\"name\"])\n",
    "    print(\"Maximum retweeter handle : \",g.vs.select(_outdegree = max(g.outdegree()))[\"name\"])\n",
    "    print(\"Number of vertices in retweet network : \",g.vcount())        \n",
    "    print(\"Number of edes in retweet network : \",g.ecount())\n",
    "    print(\"Number of cliques in retweet network : \",g.clique_number())                                  \n",
    "    #g.reciprocity(ignore_loops=False, mode=\"default\"),  #reciprocity \n",
    "    #g.transitivity_undirected(mode=\"nan\"),              #transitivity\n",
    "    #g.density(loops=False)) "
   ]
  },
  {
   "cell_type": "code",
   "execution_count": 4,
   "metadata": {},
   "outputs": [],
   "source": [
    "def graph_nodes_df(g):\n",
    "    nodes_list = [] \n",
    "    for i in range(len(g.vs)):\n",
    "        nodes_list.append(g.vs[i].attributes())\n",
    "    df =  pd.DataFrame(nodes_list)\n",
    "    #print(df.loc[0])\n",
    "    #print(df.loc[1])\n",
    "    return df"
   ]
  },
  {
   "cell_type": "code",
   "execution_count": 5,
   "metadata": {},
   "outputs": [],
   "source": [
    "rdf=pd.read_csv('/Volumes/Ashwin/rt-data-stateonly.csv')\n",
    "rdf = rdf[rdf['rt_screen'].notna()]\n",
    "rdf = rdf[rdf['screen_name'].notna()]\n",
    "G = [tuple(x) for x in rdf[['screen_name', 'rt_screen']].values]\n",
    "g_directed = create_graph(G, True)\n",
    "g_undirected = create_graph(G, False)"
   ]
  },
  {
   "cell_type": "code",
   "execution_count": null,
   "metadata": {
    "scrolled": false
   },
   "outputs": [],
   "source": [
    "descriptive_stats(g_directed)"
   ]
  },
  {
   "cell_type": "code",
   "execution_count": 6,
   "metadata": {},
   "outputs": [],
   "source": [
    "nodes_df = graph_nodes_df(g_undirected)\n",
    "nodes_df = nodes_df.rename(columns={'name': 'user'})\n",
    "nodes_list = nodes_df['user'].values.tolist()"
   ]
  },
  {
   "cell_type": "code",
   "execution_count": 7,
   "metadata": {},
   "outputs": [
    {
     "data": {
      "text/plain": [
       "158"
      ]
     },
     "execution_count": 7,
     "metadata": {},
     "output_type": "execute_result"
    }
   ],
   "source": [
    "seeds_df=pd.read_csv('/Users/ashwinshreyasm/Desktop/polar_additional.csv')\n",
    "len(seeds_df)"
   ]
  },
  {
   "cell_type": "code",
   "execution_count": 8,
   "metadata": {},
   "outputs": [],
   "source": [
    "seeds_df['polarization'] = seeds_df['polarization'].map({'Pro-Science': 1, 'Conspiracy-Pseudoscience': 2})"
   ]
  },
  {
   "cell_type": "code",
   "execution_count": 9,
   "metadata": {},
   "outputs": [],
   "source": [
    "def classify_label_propagation(seeds_df, nodes_df, split_num):\n",
    "    t_ideo_X = np.array(seeds_df['user'])\n",
    "    t_ideo_y = np.array(list(seeds_df['polarization']))\n",
    "    t_ideo_skf = StratifiedKFold(n_splits= split_num)\n",
    "    t_ideo_skf.get_n_splits(t_ideo_X, t_ideo_y)\n",
    "    ct=0\n",
    "    merged_df_list = []\n",
    "    predicted_labels_list = []\n",
    "    for train_index, test_index in t_ideo_skf.split(t_ideo_X, t_ideo_y):\n",
    "        ct+=1\n",
    "        t_ideo_equiv = { 1: True, 2: True, -1: False}\n",
    "        equiv_t_ideo = {0: 1, 1: 2, -1: -1}\n",
    "    \n",
    "        df_train = pd.DataFrame({'user': t_ideo_X[train_index], 'label': t_ideo_y[train_index]})\n",
    "        df_test = pd.DataFrame({'user': t_ideo_X[test_index], 'label': t_ideo_y[test_index]})\n",
    "        print(\"Test-Set:\",len(df_test))\n",
    "        df_test.to_csv('round'+str(ct)+'.csv')\n",
    "        print(len(nodes_df))\n",
    "        df_train =  nodes_df.merge(df_train, how='left', on='user').fillna(-1)\n",
    "        duplicate_bool = df_train.duplicated(subset=['user'], keep='first')\n",
    "        duplicate = df_train.loc[duplicate_bool == True]\n",
    "        df_train['fixed'] = df_train['label'].map(t_ideo_equiv)\n",
    "        df_train=df_train.drop_duplicates(subset=['user'], keep='first').reset_index()\n",
    "        print(len(df_train))\n",
    "        label_prop = Graph.community_label_propagation(g_undirected , weights = 'weight',initial = df_train['label'],fixed = df_train['fixed'])\n",
    "        \n",
    "        for n in range(0,len(label_prop)):\n",
    "            print('Community #', n, 'size:', len(label_prop[n]))\n",
    "            \n",
    "        df_train['predicted_label'] = label_prop.membership\n",
    "        print(df_train['predicted_label'].unique())\n",
    "        df_train['predicted_label'] = df_train['predicted_label'].map(equiv_t_ideo)\n",
    "        predicted_labels_list.append(df_train)\n",
    "        \n",
    "        df =  pd.merge(left=df_test, right= df_train, how='left', \n",
    "                                     left_on='user', right_on='user').dropna(how='any')\n",
    "        merged_df_list.append(df)\n",
    "    return merged_df_list, predicted_labels_list\n",
    "    "
   ]
  },
  {
   "cell_type": "code",
   "execution_count": 10,
   "metadata": {},
   "outputs": [],
   "source": [
    "def getScore(df_list, measure):\n",
    "    score_list = []\n",
    "    ct=0\n",
    "    for df in df_list: \n",
    "        ct+=1\n",
    "        #print(df['label_x'][0])\n",
    "        #print(df['label_x'].unique())\n",
    "        #print(df['predicted_label'].unique())\n",
    "        df.to_csv('t'+str(ct)+'.csv')\n",
    "        score = measure(df['label_x'], df['predicted_label'], average='micro')\n",
    "        print(score)\n",
    "        score_list.append(score)\n",
    "    return sum(score_list)/len(df_list)"
   ]
  },
  {
   "cell_type": "code",
   "execution_count": 11,
   "metadata": {},
   "outputs": [],
   "source": [
    "def getAuc(df_list):\n",
    "    score_list = []\n",
    "    for df in df_list: \n",
    "        #print(df['label_x'][0])\n",
    "        fpr, tpr, thresholds = roc_curve(df['label_x'],df['predicted_label'], pos_label=2)\n",
    "        score = auc(fpr,tpr)\n",
    "        print(score)\n",
    "        score_list.append(score)\n",
    "    return sum(score_list)/len(df_list)"
   ]
  },
  {
   "cell_type": "code",
   "execution_count": 12,
   "metadata": {},
   "outputs": [],
   "source": [
    "def getCommunityMembership(community_list):\n",
    "    for i in range(0,len(community_list)):\n",
    "        print(Counter(community_list[i]['predicted_label']))"
   ]
  },
  {
   "cell_type": "code",
   "execution_count": 13,
   "metadata": {},
   "outputs": [],
   "source": [
    "def getFinalLabelsForNodes(list_of_dfs):\n",
    "    df_list = []\n",
    "    for df in list_of_dfs:\n",
    "        df_list.append(df[['user', 'predicted_label']]) \n",
    "    df = reduce(lambda left,right: pd.merge(left,right,on='user'), df_list)\n",
    "    print(df.dtypes)\n",
    "    df = df.replace(-1, 0)\n",
    "    df['label'] = df.iloc[:,1:6].sum(axis = 1)/5 #col numbers between in the bracket and divided by the number of splits \n",
    "    df = df[['user', 'label']]\n",
    "    df['label'] = df['label'].apply(lambda x: 0 if x == 0 else 1 if 0 < x <= 1.5 else 2)\n",
    "    df['label'] = df['label'].map({0: 'no_label', 1: 'Pro-Science', 2: 'Conspiracy-Pseudoscience'})\n",
    "    return df"
   ]
  },
  {
   "cell_type": "code",
   "execution_count": 14,
   "metadata": {
    "scrolled": false
   },
   "outputs": [
    {
     "name": "stdout",
     "output_type": "stream",
     "text": [
      "Test-Set: 32\n",
      "1815920\n",
      "1815920\n",
      "Community # 0 size: 1474789\n",
      "Community # 1 size: 198998\n",
      "[ 0  1 -1]\n",
      "Test-Set: 32\n",
      "1815920\n",
      "1815920\n",
      "Community # 0 size: 1478381\n",
      "Community # 1 size: 195406\n",
      "[ 0  1 -1]\n",
      "Test-Set: 32\n",
      "1815920\n",
      "1815920\n",
      "Community # 0 size: 1476833\n",
      "Community # 1 size: 196954\n",
      "[ 0  1 -1]\n",
      "Test-Set: 31\n",
      "1815920\n",
      "1815920\n",
      "Community # 0 size: 1481870\n",
      "Community # 1 size: 191917\n",
      "[ 0  1 -1]\n",
      "Test-Set: 31\n",
      "1815920\n",
      "1815920\n",
      "Community # 0 size: 1478655\n",
      "Community # 1 size: 195132\n",
      "[ 0  1 -1]\n"
     ]
    }
   ],
   "source": [
    "label_prop_df_list = classify_label_propagation(seeds_df,nodes_df,5)"
   ]
  },
  {
   "cell_type": "code",
   "execution_count": 15,
   "metadata": {},
   "outputs": [
    {
     "name": "stdout",
     "output_type": "stream",
     "text": [
      "0.84375\n",
      "0.8387096774193549\n",
      "0.9259259259259259\n",
      "0.967741935483871\n",
      "1.0\n"
     ]
    },
    {
     "data": {
      "text/plain": [
       "0.9152255077658303"
      ]
     },
     "execution_count": 15,
     "metadata": {},
     "output_type": "execute_result"
    }
   ],
   "source": [
    "getScore(label_prop_df_list[0], precision_score)"
   ]
  },
  {
   "cell_type": "code",
   "execution_count": 16,
   "metadata": {},
   "outputs": [
    {
     "name": "stdout",
     "output_type": "stream",
     "text": [
      "0.84375\n",
      "0.8333333333333333\n",
      "0.9\n",
      "0.9666666666666667\n",
      "1.0\n"
     ]
    },
    {
     "data": {
      "text/plain": [
       "0.9087500000000001"
      ]
     },
     "execution_count": 16,
     "metadata": {},
     "output_type": "execute_result"
    }
   ],
   "source": [
    "getAuc(label_prop_df_list[0])"
   ]
  },
  {
   "cell_type": "code",
   "execution_count": 17,
   "metadata": {},
   "outputs": [
    {
     "name": "stdout",
     "output_type": "stream",
     "text": [
      "Counter({1: 1474789, 2: 198998, -1: 142133})\n",
      "Counter({1: 1478381, 2: 195406, -1: 142133})\n",
      "Counter({1: 1476833, 2: 196954, -1: 142133})\n",
      "Counter({1: 1481870, 2: 191917, -1: 142133})\n",
      "Counter({1: 1478655, 2: 195132, -1: 142133})\n"
     ]
    }
   ],
   "source": [
    "getCommunityMembership(label_prop_df_list[1])"
   ]
  },
  {
   "cell_type": "code",
   "execution_count": 18,
   "metadata": {},
   "outputs": [
    {
     "name": "stdout",
     "output_type": "stream",
     "text": [
      "user                 object\n",
      "predicted_label_x     int64\n",
      "predicted_label_y     int64\n",
      "predicted_label_x     int64\n",
      "predicted_label_y     int64\n",
      "predicted_label       int64\n",
      "dtype: object\n"
     ]
    }
   ],
   "source": [
    "user_label_df = getFinalLabelsForNodes(label_prop_df_list[1])"
   ]
  },
  {
   "cell_type": "code",
   "execution_count": 19,
   "metadata": {},
   "outputs": [
    {
     "data": {
      "text/plain": [
       "Pro-Science                 1482607\n",
       "Conspiracy-Pseudoscience     191180\n",
       "no_label                     142133\n",
       "Name: label, dtype: int64"
      ]
     },
     "execution_count": 19,
     "metadata": {},
     "output_type": "execute_result"
    }
   ],
   "source": [
    "user_label_df['label'].value_counts()"
   ]
  },
  {
   "cell_type": "code",
   "execution_count": 20,
   "metadata": {},
   "outputs": [],
   "source": [
    "user_label_df.to_csv('user_label_df_additional.csv')"
   ]
  },
  {
   "cell_type": "code",
   "execution_count": 21,
   "metadata": {},
   "outputs": [
    {
     "name": "stdout",
     "output_type": "stream",
     "text": [
      "1815920\n",
      "158\n",
      "452209\n"
     ]
    }
   ],
   "source": [
    "users_df=pd.read_csv('user_label_df_additional.csv')\n",
    "outdegree=[]\n",
    "print(len(users_df))\n",
    "seeds=seeds_df['user'].tolist()\n",
    "print(len(seeds))\n",
    "for i in range(len(users_df)):\n",
    "    if users_df['user'].iloc[i] not in seeds:\n",
    "        outdegree.append(g_directed.degree(users_df['user'].iloc[i],mode='in'))\n",
    "    else:\n",
    "        outdegree.append(-1)\n",
    "users_df['retweet_count']=outdegree\n",
    "users_df=users_df[users_df.retweet_count != -1]\n",
    "users_df=users_df[users_df.retweet_count != 0]\n",
    "users_df=users_df.sort_values('retweet_count',ascending=False)\n",
    "print(len(users_df))\n",
    "#print(users_df['retweet_count'])\n",
    "users_df.to_csv('user_label_degree_df_additional.csv',index=False)"
   ]
  },
  {
   "cell_type": "code",
   "execution_count": null,
   "metadata": {},
   "outputs": [],
   "source": []
  }
 ],
 "metadata": {
  "kernelspec": {
   "display_name": "Python 3",
   "language": "python",
   "name": "python3"
  },
  "language_info": {
   "codemirror_mode": {
    "name": "ipython",
    "version": 3
   },
   "file_extension": ".py",
   "mimetype": "text/x-python",
   "name": "python",
   "nbconvert_exporter": "python",
   "pygments_lexer": "ipython3",
   "version": "3.7.6"
  }
 },
 "nbformat": 4,
 "nbformat_minor": 4
}
